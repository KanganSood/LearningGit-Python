{
 "cells": [
  {
   "cell_type": "markdown",
   "metadata": {},
   "source": [
    "Basic Hello World"
   ]
  },
  {
   "cell_type": "code",
   "execution_count": 1,
   "metadata": {},
   "outputs": [
    {
     "name": "stdout",
     "output_type": "stream",
     "text": [
      "1\n"
     ]
    }
   ],
   "source": [
    "x=1\n",
    "print(x)"
   ]
  },
  {
   "cell_type": "code",
   "execution_count": 2,
   "metadata": {},
   "outputs": [],
   "source": [
    "import pandas as pd"
   ]
  },
  {
   "cell_type": "code",
   "execution_count": 3,
   "metadata": {},
   "outputs": [],
   "source": [
    "sashelp=pd.read_csv('c:\\sashelp.csv')"
   ]
  },
  {
   "cell_type": "code",
   "execution_count": 4,
   "metadata": {},
   "outputs": [
    {
     "data": {
      "text/plain": [
       "0      Alfred\n",
       "1       Alice\n",
       "2     Barbara\n",
       "3       Carol\n",
       "4       Henry\n",
       "5       James\n",
       "6        Jane\n",
       "7       Janet\n",
       "8     Jeffrey\n",
       "9        John\n",
       "10      Joyce\n",
       "11       Judy\n",
       "12     Louise\n",
       "13       Mary\n",
       "14     Philip\n",
       "15     Robert\n",
       "16     Ronald\n",
       "17     Thomas\n",
       "18    William\n",
       "Name: Name, dtype: object"
      ]
     },
     "execution_count": 4,
     "metadata": {},
     "output_type": "execute_result"
    }
   ],
   "source": [
    "sashelp[\"Name\"]"
   ]
  },
  {
   "cell_type": "code",
   "execution_count": 6,
   "metadata": {},
   "outputs": [
    {
     "data": {
      "text/plain": [
       "'Sushil'"
      ]
     },
     "execution_count": 6,
     "metadata": {},
     "output_type": "execute_result"
    }
   ],
   "source": [
    "\"sushil\".capitalize()"
   ]
  },
  {
   "cell_type": "code",
   "execution_count": 9,
   "metadata": {},
   "outputs": [
    {
     "name": "stdout",
     "output_type": "stream",
     "text": [
      "       Name Sex  Age  Height  Weight\n",
      "0    Alfred   M   14    69.0   112.5\n",
      "1     Alice   F   13    56.5    84.0\n",
      "2   Barbara   F   13    65.3    98.0\n",
      "3     Carol   F   14    62.8   102.5\n",
      "4     Henry   M   14    63.5   102.5\n",
      "5     James   M   12    57.3    83.0\n",
      "6      Jane   F   12    59.8    84.5\n",
      "7     Janet   F   15    62.5   112.5\n",
      "8   Jeffrey   M   13    62.5    84.0\n",
      "9      John   M   12    59.0    99.5\n",
      "10    Joyce   F   11    51.3    50.5\n",
      "11     Judy   F   14    64.3    90.0\n",
      "12   Louise   F   12    56.3    77.0\n",
      "13     Mary   F   15    66.5   112.0\n",
      "14   Philip   M   16    72.0   150.0\n",
      "15   Robert   M   12    64.8   128.0\n",
      "16   Ronald   M   15    67.0   133.0\n",
      "17   Thomas   M   11    57.5    85.0\n",
      "18  William   M   15    66.5   112.0\n"
     ]
    }
   ],
   "source": [
    "import pandas as pd\n",
    "sashelpk=pd.read_csv('c:\\sashelp.csv')\n",
    "sashelpk[\"Name\"].replace (\"u\",\"a\")\n",
    "print (sashelpk)"
   ]
  },
  {
   "cell_type": "code",
   "execution_count": null,
   "metadata": {
    "collapsed": true
   },
   "outputs": [],
   "source": []
  },
  {
   "cell_type": "code",
   "execution_count": null,
   "metadata": {
    "collapsed": true
   },
   "outputs": [],
   "source": []
  }
 ],
 "metadata": {
  "kernelspec": {
   "display_name": "Python 2",
   "language": "python",
   "name": "python2"
  },
  "language_info": {
   "codemirror_mode": {
    "name": "ipython",
    "version": 2
   },
   "file_extension": ".py",
   "mimetype": "text/x-python",
   "name": "python",
   "nbconvert_exporter": "python",
   "pygments_lexer": "ipython2",
   "version": "2.7.14"
  }
 },
 "nbformat": 4,
 "nbformat_minor": 1
}
